{
 "cells": [
  {
   "cell_type": "markdown",
   "id": "1dd84054-e533-474a-a748-269cfd6f5f1c",
   "metadata": {},
   "source": [
    "# Test_num_qpoints\n",
    "To obtain a clear SED image, one often needs to supercell the primitive cell many times in the desired direction to allow for more q points. For this theory, please refer to the developer's paper.\n",
    "\n",
    "\n",
    "Following on from the previous tutorial, here we show that after supercell MoS2's $z$ direction by a factor of 16, specifying 8 q points is the most reasonable."
   ]
  },
  {
   "cell_type": "markdown",
   "id": "5edda89e-bc7a-4f44-af9c-4fe5f4d666dc",
   "metadata": {},
   "source": [
    "Here, we recommend using a command line to control the `input_SED.in` file. Using the following shell script, one can easily change the data of the q point and test it."
   ]
  },
  {
   "cell_type": "code",
   "execution_count": null,
   "id": "52d34a42-bc3c-4fdc-bb70-c4e30862312d",
   "metadata": {},
   "outputs": [],
   "source": [
    "%%bash\n",
    "# ********************************************************************************************\n",
    "# ******* One need to edit the input_SED.in file and make this parameters correctly **********\n",
    "# ********************************************************************************************\n",
    "\n",
    "# Loop over num_qpoints from 2 to 16\n",
    "\n",
    "for num_qpoints in {2..16}\n",
    "do\n",
    "    # Modify input_SED.in to set num_qpoints to current value\n",
    "   \n",
    "    sed -i \"s/^num_qpoints *= *.*/num_qpoints = ${num_qpoints}/\" input_SED.in\n",
    "\n",
    "    plot_SED=0               # Set to 0 to calculate SED, run SED mode\n",
    "    sed  -i  \"43s/1/${plot_SED}/g\" input_SED.in\n",
    "\n",
    "    #conda activate pySED     # Activate the conda inv (maybe one dont need it)\n",
    "\n",
    "    pySED input_SED.in\n",
    "\n",
    "    # Secondly, plot SED and fitting mode, one maybe need to run this mode multiple times\n",
    "\n",
    "    plot_SED=1\n",
    "    sed  -i  \"43s/0/${plot_SED}/g\" input_SED.in\n",
    "    pySED input_SED.in\n",
    "\n",
    "    # Rename the output image file\n",
    "    mv bulk_MoS2-SED.png bulk_MoS2-SED-${num_qpoints}-kpoints.png\n",
    "\n",
    "done\n"
   ]
  },
  {
   "cell_type": "code",
   "execution_count": 3,
   "id": "b3eba9e9-f856-44e5-a1f6-0599baf5fa98",
   "metadata": {},
   "outputs": [
    {
     "data": {
      "text/html": [
       "\n",
       "        <iframe\n",
       "            width=\"1000\"\n",
       "            height=\"1000\"\n",
       "            src=\"Test_num_qpoints.pdf\"\n",
       "            frameborder=\"0\"\n",
       "            allowfullscreen\n",
       "            \n",
       "        ></iframe>\n",
       "        "
      ],
      "text/plain": [
       "<IPython.lib.display.IFrame at 0x65c1580>"
      ]
     },
     "execution_count": 3,
     "metadata": {},
     "output_type": "execute_result"
    }
   ],
   "source": [
    "from IPython.display import IFrame\n",
    "IFrame('Test_num_qpoints.pdf', width=1000, height=1000)"
   ]
  },
  {
   "cell_type": "markdown",
   "id": "176f2366-bd80-4335-b698-fd760c116e15",
   "metadata": {},
   "source": [
    "one can compare these results and find that `num_qpoints=8` gives the best results."
   ]
  },
  {
   "cell_type": "code",
   "execution_count": null,
   "id": "7c9bfdb5-d7d3-46a8-8bc4-04a0fa64d32a",
   "metadata": {},
   "outputs": [],
   "source": []
  }
 ],
 "metadata": {
  "kernelspec": {
   "display_name": "Conda_LT_daily",
   "language": "python",
   "name": "lt_daily"
  },
  "language_info": {
   "codemirror_mode": {
    "name": "ipython",
    "version": 3
   },
   "file_extension": ".py",
   "mimetype": "text/x-python",
   "name": "python",
   "nbconvert_exporter": "python",
   "pygments_lexer": "ipython3",
   "version": "3.8.18"
  }
 },
 "nbformat": 4,
 "nbformat_minor": 5
}
